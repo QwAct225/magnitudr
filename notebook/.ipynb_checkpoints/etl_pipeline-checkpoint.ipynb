{
 "cells": [
  {
   "cell_type": "markdown",
   "id": "e814245b",
   "metadata": {},
   "source": [
    "### Import Library"
   ]
  },
  {
   "cell_type": "code",
   "id": "c42aaf49",
   "metadata": {
    "jupyter": {
     "is_executing": true
    },
    "ExecuteTime": {
     "start_time": "2025-05-13T12:52:23.080623Z"
    }
   },
   "source": "! pip install -r requirements.txt",
   "outputs": [],
   "execution_count": null
  },
  {
   "cell_type": "code",
   "id": "4980ae0a",
   "metadata": {
    "jupyter": {
     "is_executing": true
    }
   },
   "source": [
    "import requests\n",
    "import pandas as pd\n",
    "from sqlalchemy import create_engine\n",
    "from dotenv import load_dotenv\n",
    "import os"
   ],
   "outputs": [],
   "execution_count": null
  },
  {
   "cell_type": "markdown",
   "id": "70797389",
   "metadata": {},
   "source": [
    "### Extract Data"
   ]
  },
  {
   "cell_type": "code",
   "id": "1ee7d833",
   "metadata": {
    "jupyter": {
     "is_executing": true
    }
   },
   "source": [
    "url = \"https://earthquake.usgs.gov/fdsnws/event/1/query?format=geojson\"\n",
    "response = requests.get(url)\n",
    "data = response.json()\n",
    "\n",
    "earthquakes = []\n",
    "for feature in data[\"features\"]:\n",
    "    properties = feature[\"properties\"]\n",
    "    geometry = feature[\"geometry\"]\n",
    "    earthquakes.append({\n",
    "        \"id\": feature[\"id\"],\n",
    "        \"magnitude\": properties[\"mag\"],\n",
    "        \"place\": properties[\"place\"],\n",
    "        \"time\": properties[\"time\"],\n",
    "        \"longitude\": geometry[\"coordinates\"][0],\n",
    "        \"latitude\": geometry[\"coordinates\"][1],\n",
    "        \"depth\": geometry[\"coordinates\"][2]\n",
    "    })\n",
    "\n",
    "df = pd.DataFrame(earthquakes)"
   ],
   "outputs": [],
   "execution_count": null
  },
  {
   "cell_type": "code",
   "id": "defe37ad",
   "metadata": {
    "jupyter": {
     "is_executing": true
    }
   },
   "source": [
    "df.head()"
   ],
   "outputs": [],
   "execution_count": null
  },
  {
   "cell_type": "code",
   "id": "78838fd7",
   "metadata": {
    "jupyter": {
     "is_executing": true
    }
   },
   "source": [
    "df = df[(df[\"longitude\"].between(95, 141)) & (df[\"latitude\"].between(-11, 6))]"
   ],
   "outputs": [],
   "execution_count": null
  },
  {
   "cell_type": "code",
   "id": "268628be",
   "metadata": {
    "jupyter": {
     "is_executing": true
    }
   },
   "source": [
    "df[\"depth_category\"] = pd.cut(\n",
    "    df[\"depth\"],\n",
    "    bins=[0, 70, 300, 700],\n",
    "    labels=[\"Shallow\", \"Intermediate\", \"Deep\"]\n",
    ")"
   ],
   "outputs": [],
   "execution_count": null
  },
  {
   "cell_type": "code",
   "id": "e247fa3b",
   "metadata": {
    "jupyter": {
     "is_executing": true
    }
   },
   "source": [
    "df[\"time\"] = pd.to_datetime(df[\"time\"], unit=\"ms\")\n",
    "\n",
    "df[\"time\"] = df[\"time\"].dt.tz_localize(\"UTC\").dt.tz_convert(\"Asia/Jakarta\")"
   ],
   "outputs": [],
   "execution_count": null
  },
  {
   "cell_type": "code",
   "id": "feba5d8d",
   "metadata": {
    "jupyter": {
     "is_executing": true
    }
   },
   "source": [
    "df.head(30)"
   ],
   "outputs": [],
   "execution_count": null
  },
  {
   "cell_type": "code",
   "id": "414c94ca",
   "metadata": {
    "jupyter": {
     "is_executing": true
    }
   },
   "source": [
    "load_dotenv()\n",
    "\n",
    "engine = create_engine(\n",
    "    f\"postgresql://{os.getenv('DB_USER')}:{os.getenv('DB_PASSWORD')}@\"\n",
    "    f\"{os.getenv('DB_HOST')}:{os.getenv('DB_PORT')}/{os.getenv('DB_NAME')}\"\n",
    ")"
   ],
   "outputs": [],
   "execution_count": null
  },
  {
   "cell_type": "code",
   "id": "497ec04e",
   "metadata": {
    "jupyter": {
     "is_executing": true
    }
   },
   "source": [
    "df.to_sql(\"earthquakes\", engine, if_exists=\"append\", index=False)"
   ],
   "outputs": [],
   "execution_count": null
  },
  {
   "cell_type": "code",
   "id": "636de241",
   "metadata": {
    "jupyter": {
     "is_executing": true
    }
   },
   "source": [
    "df_all = pd.read_sql(\"SELECT * FROM earthquakes\", engine)\n",
    "df_all.head(30)"
   ],
   "outputs": [],
   "execution_count": null
  }
 ],
 "metadata": {
  "kernelspec": {
   "display_name": ".venv",
   "language": "python",
   "name": "python3"
  },
  "language_info": {
   "codemirror_mode": {
    "name": "ipython",
    "version": 3
   },
   "file_extension": ".py",
   "mimetype": "text/x-python",
   "name": "python",
   "nbconvert_exporter": "python",
   "pygments_lexer": "ipython3",
   "version": "3.11.5"
  }
 },
 "nbformat": 4,
 "nbformat_minor": 5
}
